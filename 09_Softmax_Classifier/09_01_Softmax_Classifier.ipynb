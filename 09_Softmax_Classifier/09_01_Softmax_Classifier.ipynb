{
  "nbformat": 4,
  "nbformat_minor": 0,
  "metadata": {
    "colab": {
      "provenance": []
    },
    "kernelspec": {
      "name": "python3",
      "display_name": "Python 3"
    },
    "language_info": {
      "name": "python"
    }
  },
  "cells": [
    {
      "cell_type": "markdown",
      "source": [
        "# Lecture 09: Softmax Classifier"
      ],
      "metadata": {
        "id": "y5jvI8PvFsDW"
      }
    },
    {
      "cell_type": "markdown",
      "source": [
        "## Cost function: cross entropy"
      ],
      "metadata": {
        "id": "SbZFtO-AGSt_"
      }
    },
    {
      "cell_type": "code",
      "execution_count": 1,
      "metadata": {
        "colab": {
          "base_uri": "https://localhost:8080/"
        },
        "id": "SeAyMDhKFpxZ",
        "outputId": "1ba43c8e-c720-4cbb-d60a-9d493be6a4c4"
      },
      "outputs": [
        {
          "output_type": "stream",
          "name": "stdout",
          "text": [
            "loss1 = 0.35667494393873245\n",
            "loss2 = 2.3025850929940455\n"
          ]
        }
      ],
      "source": [
        "# Cross entropy example\n",
        "import numpy as np\n",
        "\n",
        "# One hot\n",
        "# 0: 1 0 0\n",
        "# 1: 0 1 0\n",
        "# 2: 0 0 1\n",
        "Y = np.array([1, 0, 0])\n",
        "\n",
        "Y_pred1 = np.array([0.7, 0.2, 0.1])\n",
        "Y_pred2 = np.array([0.1, 0.3, 0.6])\n",
        "\n",
        "print(f\"loss1 = {np.sum(-Y * np.log(Y_pred1))}\") # 0.357\n",
        "print(f\"loss2 = {np.sum(-Y * np.log(Y_pred2))}\") # 2.303"
      ]
    },
    {
      "cell_type": "markdown",
      "source": [
        "## Cross entropy in PyTorch (1)"
      ],
      "metadata": {
        "id": "JTuAJr5QGWkG"
      }
    },
    {
      "cell_type": "code",
      "source": [
        "import torch\n",
        "import torch.nn as nn\n",
        "from torch.autograd import Variable\n",
        "\n",
        "# Softmax + CrossEntropy (logSoftmax + NLLLoss)\n",
        "loss = nn.CrossEntropyLoss()\n",
        "\n",
        "# taget is of size nBatch\n",
        "# each element in target has to have 0<=value<nClasses (0~2)\n",
        "# Input is class, not one-hot\n",
        "Y = Variable(torch.LongTensor([0]), requires_grad=False)\n",
        "\n",
        "# input is of size nBatch x nClasses = 1 x 4\n",
        "# Y_pred are logits (not softmax)\n",
        "Y_pred1 = Variable(torch.Tensor([[2.0, 1.0, 0.1]]))\n",
        "Y_pred2 = Variable(torch.Tensor([[0.5, 2.0, 0.3]]))\n",
        "\n",
        "l1 = loss(Y_pred1, Y)\n",
        "l2 = loss(Y_pred2, Y)\n",
        "\n",
        "print(f\"PyTorch Loss1 = {l1.data}\") # 0.417\n",
        "print(f\"PyTorch Loss2 = {l2.data}\") # 1.841"
      ],
      "metadata": {
        "colab": {
          "base_uri": "https://localhost:8080/"
        },
        "id": "flS_JQN6GI39",
        "outputId": "41af5aed-30b1-49ac-c436-f3d9674e3a79"
      },
      "execution_count": 2,
      "outputs": [
        {
          "output_type": "stream",
          "name": "stdout",
          "text": [
            "PyTorch Loss1 = 0.4170299470424652\n",
            "PyTorch Loss2 = 1.840616226196289\n"
          ]
        }
      ]
    },
    {
      "cell_type": "markdown",
      "source": [
        "## Cross entropy in PyTorch (2)\n"
      ],
      "metadata": {
        "id": "KkkIlTHWHeJL"
      }
    },
    {
      "cell_type": "code",
      "source": [
        "# Softmax + CrossEntropy (logSoftmax + NLLLoss)\n",
        "loss = nn.CrossEntropyLoss()\n",
        "\n",
        "# taget is of size nBatch\n",
        "# each element in target has to have 0<=value<nClasses (0~2)\n",
        "# Input is class, not one-hot\n",
        "Y = Variable(torch.LongTensor([2, 0, 1]), requires_grad=False)\n",
        "\n",
        "# input is of size nBatch x nClasses = 2 x 4\n",
        "# Y_pred are logits (not softmax)\n",
        "Y_pred1 = Variable(torch.Tensor([[0.1, 0.2, 0.9],\n",
        "                                 [1.1, 0.1, 0.2],\n",
        "                                 [0.2, 2.1, 0.1]]))\n",
        "Y_pred2 = Variable(torch.Tensor([[0.8, 0.2, 0.3],\n",
        "                                 [0.2, 0.3, 0.5],\n",
        "                                 [0.2, 0.2, 0.5]]))\n",
        "\n",
        "l1 = loss(Y_pred1, Y)\n",
        "l2 = loss(Y_pred2, Y)\n",
        "\n",
        "print(f\"PyTorch Loss1 = {l1.data}\") # 0.497\n",
        "print(f\"PyTorch Loss2 = {l2.data}\") # 1.239"
      ],
      "metadata": {
        "colab": {
          "base_uri": "https://localhost:8080/"
        },
        "id": "Wo064Iz6HSWZ",
        "outputId": "1b345b40-4d65-4c52-fdb6-2a412c669de8"
      },
      "execution_count": 3,
      "outputs": [
        {
          "output_type": "stream",
          "name": "stdout",
          "text": [
            "PyTorch Loss1 = 0.4966353178024292\n",
            "PyTorch Loss2 = 1.2388995885849\n"
          ]
        }
      ]
    },
    {
      "cell_type": "markdown",
      "source": [
        "## Exercise : CrossEntropyLoss VS NLLLoss\n",
        "- What are the differences?\n",
        "    - Checkout : https://pytorch.org/docs/stable/nn.html#loss-functions"
      ],
      "metadata": {
        "id": "rNPOxBdhIJqB"
      }
    }
  ]
}