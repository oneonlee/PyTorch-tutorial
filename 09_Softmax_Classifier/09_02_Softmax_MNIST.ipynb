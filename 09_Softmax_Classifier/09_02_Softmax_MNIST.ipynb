{
  "nbformat": 4,
  "nbformat_minor": 0,
  "metadata": {
    "colab": {
      "provenance": []
    },
    "kernelspec": {
      "name": "python3",
      "display_name": "Python 3"
    },
    "language_info": {
      "name": "python"
    }
  },
  "cells": [
    {
      "cell_type": "markdown",
      "source": [
        "# Lecture 09: Softmax Classifier"
      ],
      "metadata": {
        "id": "y5jvI8PvFsDW"
      }
    },
    {
      "cell_type": "markdown",
      "source": [
        "## MNIST Network"
      ],
      "metadata": {
        "id": "CLjNX1z7KrtP"
      }
    },
    {
      "cell_type": "markdown",
      "source": [
        "https://github.com/pytorch/examples/blob/master/mnist/main.py"
      ],
      "metadata": {
        "id": "U0DP-DY33ebY"
      }
    },
    {
      "cell_type": "code",
      "source": [
        "import numpy as np\n",
        "import torch\n",
        "from torch import cuda\n",
        "from torch.autograd import Variable\n",
        "from torch.utils.data import Dataset, DataLoader\n",
        "import torch.nn.functional as F\n",
        "from torchvision import datasets\n",
        "import torchvision.transforms as transforms"
      ],
      "metadata": {
        "id": "w4YymaS-LUq8"
      },
      "execution_count": null,
      "outputs": []
    },
    {
      "cell_type": "code",
      "source": [
        "# MNIST Dataset\n",
        "train_dataset = datasets.MNIST(root=\"./data/\",\n",
        "                               train=True,\n",
        "                               transform=transforms.ToTensor(),\n",
        "                               download=True)\n",
        "\n",
        "test_dataset = datasets.MNIST(root=\"./data/\",\n",
        "                              train=False,\n",
        "                              transform=transforms.ToTensor())"
      ],
      "metadata": {
        "id": "dS2QEUSRMRby"
      },
      "execution_count": null,
      "outputs": []
    },
    {
      "cell_type": "code",
      "source": [
        "batch_size = 32\n",
        "device = 'cuda' if cuda.is_available() else 'cpu'\n",
        "print(f'Training MNIST Model on {device}\\n{\"=\" * 44}')"
      ],
      "metadata": {
        "colab": {
          "base_uri": "https://localhost:8080/"
        },
        "id": "vSqAd_s0MS8A",
        "outputId": "c4a46b06-a3ca-4fb5-a8e3-e7ed80e23e42"
      },
      "execution_count": null,
      "outputs": [
        {
          "output_type": "stream",
          "name": "stdout",
          "text": [
            "Training MNIST Model on cpu\n",
            "============================================\n"
          ]
        }
      ]
    },
    {
      "cell_type": "code",
      "source": [
        "# Data Loader (Input Pipeline)\n",
        "train_loader = DataLoader(dataset=train_dataset,\n",
        "                          batch_size=batch_size,\n",
        "                          shuffle=True)\n",
        "test_loader = DataLoader(dataset=test_dataset,\n",
        "                         batch_size=batch_size,\n",
        "                         shuffle=False)"
      ],
      "metadata": {
        "id": "AL7LpPX4Sj2k"
      },
      "execution_count": null,
      "outputs": []
    },
    {
      "cell_type": "code",
      "source": [
        "class Net(nn.Module):\n",
        "    def __init__(self):\n",
        "        super(Net, self).__init__()\n",
        "        self.l1 = nn.Linear(784, 520)\n",
        "        self.l2 = nn.Linear(520, 320)\n",
        "        self.l3 = nn.Linear(320, 240)\n",
        "        self.l4 = nn.Linear(240, 120)\n",
        "        self.l5 = nn.Linear(120, 10)\n",
        "\n",
        "    def forward(self, x):\n",
        "        x = x.view(-1, 784) # Flatten the data (n, 1, 28, 28) => (n, 784)\n",
        "        x = F.relu(self.l1(x))\n",
        "        x = F.relu(self.l2(x))\n",
        "        x = F.relu(self.l3(x))\n",
        "        x = F.relu(self.l4(x))\n",
        "        return self.l5(x) # No need activation"
      ],
      "metadata": {
        "id": "53OmQve2H2m4"
      },
      "execution_count": null,
      "outputs": []
    },
    {
      "cell_type": "code",
      "source": [
        "model = Net()\n",
        "model.to(device)\n",
        "\n",
        "criterion = nn.CrossEntropyLoss()\n",
        "optimizer = torch.optim.SGD(model.parameters(), lr=0.01, momentum=0.5)"
      ],
      "metadata": {
        "id": "fS7wO_aZMbl7"
      },
      "execution_count": null,
      "outputs": []
    },
    {
      "cell_type": "code",
      "source": [
        "def train(epoch):\n",
        "    model.train()\n",
        "    for batch_idx, (data, target) in enumerate(train_loader):\n",
        "        data, target = data.to(device), target.to(device)\n",
        "        optimizer.zero_grad()\n",
        "        output = model(data)\n",
        "        loss = criterion(output, target)\n",
        "        loss.backward()\n",
        "        optimizer.step()\n",
        "\n",
        "        if batch_idx%100 == 0:\n",
        "            print(f\"Train Epoch: {epoch} [{batch_idx * len(data)}/{len(train_loader.dataset)} ({(100. * batch_idx / len(train_loader)):.6f})%]\\tLoss: {loss.data.item():.6f}\")"
      ],
      "metadata": {
        "id": "NoNdzbS8LVnJ"
      },
      "execution_count": null,
      "outputs": []
    },
    {
      "cell_type": "code",
      "source": [
        "def test():\n",
        "    model.eval()\n",
        "    test_loss = 0\n",
        "    correct = 0\n",
        "\n",
        "    with torch.no_grad():\n",
        "        for data, target in test_loader:\n",
        "            data, target = data.to(device), target.to(device)\n",
        "            output = model(data)\n",
        "\n",
        "            # sum up batch loss\n",
        "            test_loss += criterion(output, target).item()\n",
        "\n",
        "            # get the index of the max log-probability\n",
        "            pred = torch.max(output.data, 1)[1]\n",
        "            # pred = output.data.max(1, keepdim=True)[1]\n",
        "            correct += pred.eq(target.data.view_as(pred)).cpu().sum()\n",
        "\n",
        "    test_loss /= len(test_loader.dataset)\n",
        "    print(f\"Test set : Average loss = {test_loss:.4f}, Accuracy = {correct}/{len(test_loader.dataset)} ({(100. * correct / len(test_loader.dataset)):.0f}%)\\n\\n\")"
      ],
      "metadata": {
        "id": "cLdtmTQlNZvm"
      },
      "execution_count": null,
      "outputs": []
    },
    {
      "cell_type": "code",
      "source": [
        "epochs = 10\n",
        "for epoch in range(1, epochs+1):\n",
        "    train(epoch)\n",
        "    test()"
      ],
      "metadata": {
        "colab": {
          "base_uri": "https://localhost:8080/"
        },
        "id": "w6enoLZUPmp0",
        "outputId": "b2ac1951-088d-4cbd-986d-11014ee06643"
      },
      "execution_count": null,
      "outputs": [
        {
          "output_type": "stream",
          "name": "stdout",
          "text": [
            "Train Epoch: 1 [0/60000 (0.000000)%]\tLoss: 2.308950\n",
            "Train Epoch: 1 [3200/60000 (5.333333)%]\tLoss: 2.295634\n",
            "Train Epoch: 1 [6400/60000 (10.666667)%]\tLoss: 2.292025\n",
            "Train Epoch: 1 [9600/60000 (16.000000)%]\tLoss: 2.307748\n",
            "Train Epoch: 1 [12800/60000 (21.333333)%]\tLoss: 2.288687\n",
            "Train Epoch: 1 [16000/60000 (26.666667)%]\tLoss: 2.269932\n",
            "Train Epoch: 1 [19200/60000 (32.000000)%]\tLoss: 2.268586\n",
            "Train Epoch: 1 [22400/60000 (37.333333)%]\tLoss: 2.222619\n",
            "Train Epoch: 1 [25600/60000 (42.666667)%]\tLoss: 2.176989\n",
            "Train Epoch: 1 [28800/60000 (48.000000)%]\tLoss: 1.851439\n",
            "Train Epoch: 1 [32000/60000 (53.333333)%]\tLoss: 1.539903\n",
            "Train Epoch: 1 [35200/60000 (58.666667)%]\tLoss: 0.949393\n",
            "Train Epoch: 1 [38400/60000 (64.000000)%]\tLoss: 0.679966\n",
            "Train Epoch: 1 [41600/60000 (69.333333)%]\tLoss: 0.877325\n",
            "Train Epoch: 1 [44800/60000 (74.666667)%]\tLoss: 0.566020\n",
            "Train Epoch: 1 [48000/60000 (80.000000)%]\tLoss: 0.568280\n",
            "Train Epoch: 1 [51200/60000 (85.333333)%]\tLoss: 0.452411\n",
            "Train Epoch: 1 [54400/60000 (90.666667)%]\tLoss: 0.773342\n",
            "Train Epoch: 1 [57600/60000 (96.000000)%]\tLoss: 0.244400\n",
            "Test set : Average loss = 0.0133, Accuracy = 8736/10000 (87%)\n",
            "\n",
            "\n",
            "Train Epoch: 2 [0/60000 (0.000000)%]\tLoss: 0.378224\n",
            "Train Epoch: 2 [3200/60000 (5.333333)%]\tLoss: 0.453831\n",
            "Train Epoch: 2 [6400/60000 (10.666667)%]\tLoss: 0.280051\n",
            "Train Epoch: 2 [9600/60000 (16.000000)%]\tLoss: 0.703082\n",
            "Train Epoch: 2 [12800/60000 (21.333333)%]\tLoss: 0.199982\n",
            "Train Epoch: 2 [16000/60000 (26.666667)%]\tLoss: 0.194290\n",
            "Train Epoch: 2 [19200/60000 (32.000000)%]\tLoss: 0.267716\n",
            "Train Epoch: 2 [22400/60000 (37.333333)%]\tLoss: 0.357571\n",
            "Train Epoch: 2 [25600/60000 (42.666667)%]\tLoss: 0.378909\n",
            "Train Epoch: 2 [28800/60000 (48.000000)%]\tLoss: 0.282055\n",
            "Train Epoch: 2 [32000/60000 (53.333333)%]\tLoss: 0.369566\n",
            "Train Epoch: 2 [35200/60000 (58.666667)%]\tLoss: 0.381745\n",
            "Train Epoch: 2 [38400/60000 (64.000000)%]\tLoss: 0.188236\n",
            "Train Epoch: 2 [41600/60000 (69.333333)%]\tLoss: 0.389603\n",
            "Train Epoch: 2 [44800/60000 (74.666667)%]\tLoss: 0.194399\n",
            "Train Epoch: 2 [48000/60000 (80.000000)%]\tLoss: 0.505473\n",
            "Train Epoch: 2 [51200/60000 (85.333333)%]\tLoss: 0.276723\n",
            "Train Epoch: 2 [54400/60000 (90.666667)%]\tLoss: 0.740784\n",
            "Train Epoch: 2 [57600/60000 (96.000000)%]\tLoss: 0.202420\n",
            "Test set : Average loss = 0.0068, Accuracy = 9363/10000 (94%)\n",
            "\n",
            "\n",
            "Train Epoch: 3 [0/60000 (0.000000)%]\tLoss: 0.159489\n",
            "Train Epoch: 3 [3200/60000 (5.333333)%]\tLoss: 0.217185\n",
            "Train Epoch: 3 [6400/60000 (10.666667)%]\tLoss: 0.151676\n",
            "Train Epoch: 3 [9600/60000 (16.000000)%]\tLoss: 0.404842\n",
            "Train Epoch: 3 [12800/60000 (21.333333)%]\tLoss: 0.223468\n",
            "Train Epoch: 3 [16000/60000 (26.666667)%]\tLoss: 0.656695\n",
            "Train Epoch: 3 [19200/60000 (32.000000)%]\tLoss: 0.060252\n",
            "Train Epoch: 3 [22400/60000 (37.333333)%]\tLoss: 0.174753\n",
            "Train Epoch: 3 [25600/60000 (42.666667)%]\tLoss: 0.126223\n",
            "Train Epoch: 3 [28800/60000 (48.000000)%]\tLoss: 0.122908\n",
            "Train Epoch: 3 [32000/60000 (53.333333)%]\tLoss: 0.157309\n",
            "Train Epoch: 3 [35200/60000 (58.666667)%]\tLoss: 0.172701\n",
            "Train Epoch: 3 [38400/60000 (64.000000)%]\tLoss: 0.333474\n",
            "Train Epoch: 3 [41600/60000 (69.333333)%]\tLoss: 0.132297\n",
            "Train Epoch: 3 [44800/60000 (74.666667)%]\tLoss: 0.140923\n",
            "Train Epoch: 3 [48000/60000 (80.000000)%]\tLoss: 0.167270\n",
            "Train Epoch: 3 [51200/60000 (85.333333)%]\tLoss: 0.155323\n",
            "Train Epoch: 3 [54400/60000 (90.666667)%]\tLoss: 0.377945\n",
            "Train Epoch: 3 [57600/60000 (96.000000)%]\tLoss: 0.146178\n",
            "Test set : Average loss = 0.0044, Accuracy = 9595/10000 (96%)\n",
            "\n",
            "\n",
            "Train Epoch: 4 [0/60000 (0.000000)%]\tLoss: 0.069076\n",
            "Train Epoch: 4 [3200/60000 (5.333333)%]\tLoss: 0.341494\n",
            "Train Epoch: 4 [6400/60000 (10.666667)%]\tLoss: 0.106681\n",
            "Train Epoch: 4 [9600/60000 (16.000000)%]\tLoss: 0.067198\n",
            "Train Epoch: 4 [12800/60000 (21.333333)%]\tLoss: 0.239065\n",
            "Train Epoch: 4 [16000/60000 (26.666667)%]\tLoss: 0.336936\n",
            "Train Epoch: 4 [19200/60000 (32.000000)%]\tLoss: 0.045915\n",
            "Train Epoch: 4 [22400/60000 (37.333333)%]\tLoss: 0.057202\n",
            "Train Epoch: 4 [25600/60000 (42.666667)%]\tLoss: 0.116357\n",
            "Train Epoch: 4 [28800/60000 (48.000000)%]\tLoss: 0.054495\n",
            "Train Epoch: 4 [32000/60000 (53.333333)%]\tLoss: 0.088895\n",
            "Train Epoch: 4 [35200/60000 (58.666667)%]\tLoss: 0.055627\n",
            "Train Epoch: 4 [38400/60000 (64.000000)%]\tLoss: 0.024855\n",
            "Train Epoch: 4 [41600/60000 (69.333333)%]\tLoss: 0.070630\n",
            "Train Epoch: 4 [44800/60000 (74.666667)%]\tLoss: 0.192076\n",
            "Train Epoch: 4 [48000/60000 (80.000000)%]\tLoss: 0.082970\n",
            "Train Epoch: 4 [51200/60000 (85.333333)%]\tLoss: 0.190224\n",
            "Train Epoch: 4 [54400/60000 (90.666667)%]\tLoss: 0.015037\n",
            "Train Epoch: 4 [57600/60000 (96.000000)%]\tLoss: 0.030617\n",
            "Test set : Average loss = 0.0036, Accuracy = 9642/10000 (96%)\n",
            "\n",
            "\n",
            "Train Epoch: 5 [0/60000 (0.000000)%]\tLoss: 0.111212\n",
            "Train Epoch: 5 [3200/60000 (5.333333)%]\tLoss: 0.100315\n",
            "Train Epoch: 5 [6400/60000 (10.666667)%]\tLoss: 0.026652\n",
            "Train Epoch: 5 [9600/60000 (16.000000)%]\tLoss: 0.113975\n",
            "Train Epoch: 5 [12800/60000 (21.333333)%]\tLoss: 0.026499\n",
            "Train Epoch: 5 [16000/60000 (26.666667)%]\tLoss: 0.072823\n",
            "Train Epoch: 5 [19200/60000 (32.000000)%]\tLoss: 0.013154\n",
            "Train Epoch: 5 [22400/60000 (37.333333)%]\tLoss: 0.425285\n",
            "Train Epoch: 5 [25600/60000 (42.666667)%]\tLoss: 0.014235\n",
            "Train Epoch: 5 [28800/60000 (48.000000)%]\tLoss: 0.119642\n",
            "Train Epoch: 5 [32000/60000 (53.333333)%]\tLoss: 0.101347\n",
            "Train Epoch: 5 [35200/60000 (58.666667)%]\tLoss: 0.063181\n",
            "Train Epoch: 5 [38400/60000 (64.000000)%]\tLoss: 0.163055\n",
            "Train Epoch: 5 [41600/60000 (69.333333)%]\tLoss: 0.063556\n",
            "Train Epoch: 5 [44800/60000 (74.666667)%]\tLoss: 0.067780\n",
            "Train Epoch: 5 [48000/60000 (80.000000)%]\tLoss: 0.126103\n",
            "Train Epoch: 5 [51200/60000 (85.333333)%]\tLoss: 0.104397\n",
            "Train Epoch: 5 [54400/60000 (90.666667)%]\tLoss: 0.116882\n",
            "Train Epoch: 5 [57600/60000 (96.000000)%]\tLoss: 0.119571\n",
            "Test set : Average loss = 0.0030, Accuracy = 9704/10000 (97%)\n",
            "\n",
            "\n",
            "Train Epoch: 6 [0/60000 (0.000000)%]\tLoss: 0.072203\n",
            "Train Epoch: 6 [3200/60000 (5.333333)%]\tLoss: 0.078699\n",
            "Train Epoch: 6 [6400/60000 (10.666667)%]\tLoss: 0.021550\n",
            "Train Epoch: 6 [9600/60000 (16.000000)%]\tLoss: 0.021620\n",
            "Train Epoch: 6 [12800/60000 (21.333333)%]\tLoss: 0.096010\n",
            "Train Epoch: 6 [16000/60000 (26.666667)%]\tLoss: 0.212961\n",
            "Train Epoch: 6 [19200/60000 (32.000000)%]\tLoss: 0.155888\n",
            "Train Epoch: 6 [22400/60000 (37.333333)%]\tLoss: 0.093539\n",
            "Train Epoch: 6 [25600/60000 (42.666667)%]\tLoss: 0.232745\n",
            "Train Epoch: 6 [28800/60000 (48.000000)%]\tLoss: 0.021494\n",
            "Train Epoch: 6 [32000/60000 (53.333333)%]\tLoss: 0.175564\n",
            "Train Epoch: 6 [35200/60000 (58.666667)%]\tLoss: 0.028434\n",
            "Train Epoch: 6 [38400/60000 (64.000000)%]\tLoss: 0.034564\n",
            "Train Epoch: 6 [41600/60000 (69.333333)%]\tLoss: 0.033155\n",
            "Train Epoch: 6 [44800/60000 (74.666667)%]\tLoss: 0.020253\n",
            "Train Epoch: 6 [48000/60000 (80.000000)%]\tLoss: 0.002689\n",
            "Train Epoch: 6 [51200/60000 (85.333333)%]\tLoss: 0.044703\n",
            "Train Epoch: 6 [54400/60000 (90.666667)%]\tLoss: 0.024296\n",
            "Train Epoch: 6 [57600/60000 (96.000000)%]\tLoss: 0.020562\n",
            "Test set : Average loss = 0.0031, Accuracy = 9720/10000 (97%)\n",
            "\n",
            "\n",
            "Train Epoch: 7 [0/60000 (0.000000)%]\tLoss: 0.009443\n",
            "Train Epoch: 7 [3200/60000 (5.333333)%]\tLoss: 0.097157\n",
            "Train Epoch: 7 [6400/60000 (10.666667)%]\tLoss: 0.054542\n",
            "Train Epoch: 7 [9600/60000 (16.000000)%]\tLoss: 0.041691\n",
            "Train Epoch: 7 [12800/60000 (21.333333)%]\tLoss: 0.033434\n",
            "Train Epoch: 7 [16000/60000 (26.666667)%]\tLoss: 0.054819\n",
            "Train Epoch: 7 [19200/60000 (32.000000)%]\tLoss: 0.031498\n",
            "Train Epoch: 7 [22400/60000 (37.333333)%]\tLoss: 0.161346\n",
            "Train Epoch: 7 [25600/60000 (42.666667)%]\tLoss: 0.040399\n",
            "Train Epoch: 7 [28800/60000 (48.000000)%]\tLoss: 0.022769\n",
            "Train Epoch: 7 [32000/60000 (53.333333)%]\tLoss: 0.008884\n",
            "Train Epoch: 7 [35200/60000 (58.666667)%]\tLoss: 0.003733\n",
            "Train Epoch: 7 [38400/60000 (64.000000)%]\tLoss: 0.108738\n",
            "Train Epoch: 7 [41600/60000 (69.333333)%]\tLoss: 0.159611\n",
            "Train Epoch: 7 [44800/60000 (74.666667)%]\tLoss: 0.031563\n",
            "Train Epoch: 7 [48000/60000 (80.000000)%]\tLoss: 0.003243\n",
            "Train Epoch: 7 [51200/60000 (85.333333)%]\tLoss: 0.032624\n",
            "Train Epoch: 7 [54400/60000 (90.666667)%]\tLoss: 0.143182\n",
            "Train Epoch: 7 [57600/60000 (96.000000)%]\tLoss: 0.041766\n",
            "Test set : Average loss = 0.0027, Accuracy = 9749/10000 (97%)\n",
            "\n",
            "\n",
            "Train Epoch: 8 [0/60000 (0.000000)%]\tLoss: 0.042807\n",
            "Train Epoch: 8 [3200/60000 (5.333333)%]\tLoss: 0.075705\n",
            "Train Epoch: 8 [6400/60000 (10.666667)%]\tLoss: 0.041372\n",
            "Train Epoch: 8 [9600/60000 (16.000000)%]\tLoss: 0.017783\n",
            "Train Epoch: 8 [12800/60000 (21.333333)%]\tLoss: 0.155236\n",
            "Train Epoch: 8 [16000/60000 (26.666667)%]\tLoss: 0.002692\n",
            "Train Epoch: 8 [19200/60000 (32.000000)%]\tLoss: 0.276668\n",
            "Train Epoch: 8 [22400/60000 (37.333333)%]\tLoss: 0.010538\n",
            "Train Epoch: 8 [25600/60000 (42.666667)%]\tLoss: 0.019173\n",
            "Train Epoch: 8 [28800/60000 (48.000000)%]\tLoss: 0.018847\n",
            "Train Epoch: 8 [32000/60000 (53.333333)%]\tLoss: 0.008183\n",
            "Train Epoch: 8 [35200/60000 (58.666667)%]\tLoss: 0.016023\n",
            "Train Epoch: 8 [38400/60000 (64.000000)%]\tLoss: 0.012065\n",
            "Train Epoch: 8 [41600/60000 (69.333333)%]\tLoss: 0.100508\n",
            "Train Epoch: 8 [44800/60000 (74.666667)%]\tLoss: 0.036128\n",
            "Train Epoch: 8 [48000/60000 (80.000000)%]\tLoss: 0.030672\n",
            "Train Epoch: 8 [51200/60000 (85.333333)%]\tLoss: 0.010283\n",
            "Train Epoch: 8 [54400/60000 (90.666667)%]\tLoss: 0.015835\n",
            "Train Epoch: 8 [57600/60000 (96.000000)%]\tLoss: 0.022465\n",
            "Test set : Average loss = 0.0026, Accuracy = 9751/10000 (98%)\n",
            "\n",
            "\n",
            "Train Epoch: 9 [0/60000 (0.000000)%]\tLoss: 0.045354\n",
            "Train Epoch: 9 [3200/60000 (5.333333)%]\tLoss: 0.035492\n",
            "Train Epoch: 9 [6400/60000 (10.666667)%]\tLoss: 0.006728\n",
            "Train Epoch: 9 [9600/60000 (16.000000)%]\tLoss: 0.059135\n",
            "Train Epoch: 9 [12800/60000 (21.333333)%]\tLoss: 0.009650\n",
            "Train Epoch: 9 [16000/60000 (26.666667)%]\tLoss: 0.012677\n",
            "Train Epoch: 9 [19200/60000 (32.000000)%]\tLoss: 0.005596\n",
            "Train Epoch: 9 [22400/60000 (37.333333)%]\tLoss: 0.053336\n",
            "Train Epoch: 9 [25600/60000 (42.666667)%]\tLoss: 0.098423\n",
            "Train Epoch: 9 [28800/60000 (48.000000)%]\tLoss: 0.035535\n",
            "Train Epoch: 9 [32000/60000 (53.333333)%]\tLoss: 0.031382\n",
            "Train Epoch: 9 [35200/60000 (58.666667)%]\tLoss: 0.015066\n",
            "Train Epoch: 9 [38400/60000 (64.000000)%]\tLoss: 0.129335\n",
            "Train Epoch: 9 [41600/60000 (69.333333)%]\tLoss: 0.023676\n",
            "Train Epoch: 9 [44800/60000 (74.666667)%]\tLoss: 0.013600\n",
            "Train Epoch: 9 [48000/60000 (80.000000)%]\tLoss: 0.149927\n",
            "Train Epoch: 9 [51200/60000 (85.333333)%]\tLoss: 0.071887\n",
            "Train Epoch: 9 [54400/60000 (90.666667)%]\tLoss: 0.023617\n",
            "Train Epoch: 9 [57600/60000 (96.000000)%]\tLoss: 0.081652\n",
            "Test set : Average loss = 0.0026, Accuracy = 9740/10000 (97%)\n",
            "\n",
            "\n",
            "Train Epoch: 10 [0/60000 (0.000000)%]\tLoss: 0.017532\n",
            "Train Epoch: 10 [3200/60000 (5.333333)%]\tLoss: 0.058443\n",
            "Train Epoch: 10 [6400/60000 (10.666667)%]\tLoss: 0.015424\n",
            "Train Epoch: 10 [9600/60000 (16.000000)%]\tLoss: 0.036703\n",
            "Train Epoch: 10 [12800/60000 (21.333333)%]\tLoss: 0.002719\n",
            "Train Epoch: 10 [16000/60000 (26.666667)%]\tLoss: 0.087595\n",
            "Train Epoch: 10 [19200/60000 (32.000000)%]\tLoss: 0.006997\n",
            "Train Epoch: 10 [22400/60000 (37.333333)%]\tLoss: 0.007124\n",
            "Train Epoch: 10 [25600/60000 (42.666667)%]\tLoss: 0.004771\n",
            "Train Epoch: 10 [28800/60000 (48.000000)%]\tLoss: 0.082139\n",
            "Train Epoch: 10 [32000/60000 (53.333333)%]\tLoss: 0.289607\n",
            "Train Epoch: 10 [35200/60000 (58.666667)%]\tLoss: 0.129163\n",
            "Train Epoch: 10 [38400/60000 (64.000000)%]\tLoss: 0.001285\n",
            "Train Epoch: 10 [41600/60000 (69.333333)%]\tLoss: 0.117209\n",
            "Train Epoch: 10 [44800/60000 (74.666667)%]\tLoss: 0.030812\n",
            "Train Epoch: 10 [48000/60000 (80.000000)%]\tLoss: 0.007851\n",
            "Train Epoch: 10 [51200/60000 (85.333333)%]\tLoss: 0.049729\n",
            "Train Epoch: 10 [54400/60000 (90.666667)%]\tLoss: 0.003942\n",
            "Train Epoch: 10 [57600/60000 (96.000000)%]\tLoss: 0.102226\n",
            "Test set : Average loss = 0.0023, Accuracy = 9786/10000 (98%)\n",
            "\n",
            "\n"
          ]
        }
      ]
    }
  ]
}