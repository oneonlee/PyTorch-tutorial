{
  "nbformat": 4,
  "nbformat_minor": 0,
  "metadata": {
    "colab": {
      "provenance": []
    },
    "kernelspec": {
      "name": "python3",
      "display_name": "Python 3"
    },
    "language_info": {
      "name": "python"
    }
  },
  "cells": [
    {
      "cell_type": "markdown",
      "source": [
        "# 모두를 위한 딥러닝 시즌2 - PyTorch Lab-04-1 Multivariable Linear regression"
      ],
      "metadata": {
        "id": "wwVWtsiiBgct"
      }
    },
    {
      "cell_type": "code",
      "execution_count": 17,
      "metadata": {
        "colab": {
          "base_uri": "https://localhost:8080/"
        },
        "id": "93hW-GIgBcdl",
        "outputId": "46220728-27e3-4d34-aede-033bd05cf32f"
      },
      "outputs": [
        {
          "output_type": "stream",
          "name": "stdout",
          "text": [
            "Epoch : 1\ty_pred = tensor([35.7873, 42.9485, 42.2712, 45.1539, 32.5440])\tLoss = 17477.68359375\n",
            "Epoch : 2\ty_pred = tensor([ 86.9318, 104.4703, 102.8633, 108.9507,  79.4766])\tLoss = 5631.1455078125\n",
            "Epoch : 3\ty_pred = tensor([115.9541, 139.3822, 137.2472, 145.1538, 106.1096])\tLoss = 1816.309814453125\n",
            "Epoch : 4\ty_pred = tensor([132.4229, 159.1937, 156.7588, 165.6985, 121.2231])\tLoss = 587.8496704101562\n",
            "Epoch : 5\ty_pred = tensor([141.7679, 170.4362, 167.8306, 177.3573, 129.7998])\tLoss = 192.25796508789062\n",
            "Epoch : 6\ty_pred = tensor([147.0703, 176.8161, 174.1133, 183.9738, 134.6670])\tLoss = 64.86672973632812\n",
            "Epoch : 7\ty_pred = tensor([150.0788, 180.4366, 177.6783, 187.7289, 137.4291])\tLoss = 23.842113494873047\n",
            "Epoch : 8\ty_pred = tensor([151.7855, 182.4913, 179.7010, 189.8602, 138.9967])\tLoss = 10.629233360290527\n",
            "Epoch : 9\ty_pred = tensor([152.7535, 183.6573, 180.8486, 191.0701, 139.8865])\tLoss = 6.372350215911865\n",
            "Epoch : 10\ty_pred = tensor([153.3022, 184.3192, 181.4995, 191.7571, 140.3916])\tLoss = 4.999459743499756\n",
            "Epoch : 11\ty_pred = tensor([153.6131, 184.6948, 181.8686, 192.1474, 140.6784])\tLoss = 4.55529260635376\n",
            "Epoch : 12\ty_pred = tensor([153.7890, 184.9081, 182.0778, 192.3693, 140.8413])\tLoss = 4.410207271575928\n",
            "Epoch : 13\ty_pred = tensor([153.8883, 185.0293, 182.1962, 192.4956, 140.9340])\tLoss = 4.361402988433838\n",
            "Epoch : 14\ty_pred = tensor([153.9442, 185.0982, 182.2632, 192.5678, 140.9867])\tLoss = 4.343631744384766\n",
            "Epoch : 15\ty_pred = tensor([153.9753, 185.1374, 182.3008, 192.6091, 141.0168])\tLoss = 4.335850715637207\n",
            "Epoch : 16\ty_pred = tensor([153.9925, 185.1598, 182.3220, 192.6330, 141.0341])\tLoss = 4.331277370452881\n",
            "Epoch : 17\ty_pred = tensor([154.0017, 185.1725, 182.3337, 192.6470, 141.0441])\tLoss = 4.327760219573975\n",
            "Epoch : 18\ty_pred = tensor([154.0064, 185.1799, 182.3400, 192.6554, 141.0499])\tLoss = 4.324547290802002\n",
            "Epoch : 19\ty_pred = tensor([154.0086, 185.1842, 182.3434, 192.6606, 141.0534])\tLoss = 4.321463584899902\n",
            "Epoch : 20\ty_pred = tensor([154.0093, 185.1868, 182.3450, 192.6640, 141.0556])\tLoss = 4.318425178527832\n"
          ]
        }
      ],
      "source": [
        "import torch\n",
        "from torch.autograd import Variable\n",
        "\n",
        "x_train = Variable(torch.FloatTensor([[73, 80, 75],\n",
        "                                      [93, 88, 93],\n",
        "                                      [89, 91, 90],\n",
        "                                      [96, 88, 100],\n",
        "                                      [73, 66, 70]]))\n",
        "y_train = Variable(torch.FloatTensor([[152],\n",
        "                                      [185],\n",
        "                                      [180],\n",
        "                                      [196],\n",
        "                                      [142]]))\n",
        "\n",
        "class MultivariateLinearRegressionModel(torch.nn.Module):\n",
        "    def __init__(self):\n",
        "        super(MultivariateLinearRegressionModel, self).__init__()\n",
        "        self.linear = torch.nn.Linear(3, 1)\n",
        "\n",
        "    def forward(self, x):\n",
        "        y_pred = self.linear(x)\n",
        "        return y_pred\n",
        "\n",
        "model = MultivariateLinearRegressionModel()\n",
        "\n",
        "criterion = torch.nn.MSELoss(reduction='mean')\n",
        "optimizer = torch.optim.SGD(model.parameters(), lr=1e-5)\n",
        "\n",
        "epochs = 20\n",
        "for epoch in range(1, epochs+1):\n",
        "    y_pred = model(x_train)\n",
        "\n",
        "    # Compute and print loss\n",
        "    loss = criterion(y_pred, y_train)\n",
        "\n",
        "    optimizer.zero_grad()\n",
        "    loss.backward()\n",
        "    optimizer.step()\n",
        "\n",
        "    print(f\"Epoch : {epoch}\\ty_pred = {y_pred.squeeze().detach()}\\tLoss = {loss.item()}\")"
      ]
    },
    {
      "cell_type": "code",
      "source": [],
      "metadata": {
        "id": "QIZYRLRwDxVG"
      },
      "execution_count": null,
      "outputs": []
    }
  ]
}